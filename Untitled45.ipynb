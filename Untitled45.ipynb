{
  "nbformat": 4,
  "nbformat_minor": 0,
  "metadata": {
    "colab": {
      "provenance": []
    },
    "kernelspec": {
      "name": "python3",
      "display_name": "Python 3"
    },
    "language_info": {
      "name": "python"
    }
  },
  "cells": [
    {
      "cell_type": "code",
      "execution_count": 1,
      "metadata": {
        "colab": {
          "base_uri": "https://localhost:8080/"
        },
        "id": "aMkUi6EgL8Ny",
        "outputId": "91b0276f-008b-4f34-865b-202149fa61d2"
      },
      "outputs": [
        {
          "output_type": "stream",
          "name": "stdout",
          "text": [
            "Array:\n",
            " [[1 2 3]\n",
            " [4 5 6]]\n",
            "Shape: (2, 3)\n",
            "Dimensions: 2\n",
            "Zeros:\n",
            " [[0. 0. 0. 0.]\n",
            " [0. 0. 0. 0.]\n",
            " [0. 0. 0. 0.]]\n",
            "Ones:\n",
            " [[1. 1. 1.]\n",
            " [1. 1. 1.]]\n",
            "\n",
            "=== Part c: Reshape and flatten ===\n",
            "Reshaped Array:\n",
            " [[1 2]\n",
            " [3 4]\n",
            " [5 6]]\n",
            "Flattened Array: [1 2 3 4 5 6]\n",
            "\n",
            "=== Part d: Vertical and horizontal stacking ===\n",
            "Vertical Stack:\n",
            " [[ 1  2  3]\n",
            " [ 4  5  6]\n",
            " [ 7  8  9]\n",
            " [10 11 12]]\n",
            "Horizontal Stack:\n",
            " [[ 1  2  3  7  8  9]\n",
            " [ 4  5  6 10 11 12]]\n",
            "\n",
            "=== Part e: Indexing and slicing ===\n",
            "Element at (0,1): 2\n",
            "First row: [1 2 3]\n",
            "Last column: [3 6]\n",
            "\n",
            "=== Part f: Statistical functions ===\n",
            "Min: 1\n",
            "Max: 6\n",
            "Mean: 3.5\n",
            "Median: 3.5\n",
            "Standard Deviation: 1.707825127659933\n"
          ]
        }
      ],
      "source": [
        "import numpy as np\n",
        "\n",
        "\n",
        "\n",
        "array1 = np.array([[1, 2, 3], [4, 5, 6]])\n",
        "print(\"Array:\\n\", array1)\n",
        "print(\"Shape:\", array1.shape)\n",
        "print(\"Dimensions:\", array1.ndim)\n",
        "\n",
        "\n",
        "zeros_matrix = np.zeros((3, 4))\n",
        "ones_matrix = np.ones((2, 3))\n",
        "print(\"Zeros:\\n\", zeros_matrix)\n",
        "print(\"Ones:\\n\", ones_matrix)\n",
        "\n",
        "\n",
        "print(\"\\n=== Part c: Reshape and flatten ===\")\n",
        "reshaped_array = array1.reshape(3, 2)\n",
        "flattened_array = array1.flatten()\n",
        "print(\"Reshaped Array:\\n\", reshaped_array)\n",
        "print(\"Flattened Array:\", flattened_array)\n",
        "\n",
        "print(\"\\n=== Part d: Vertical and horizontal stacking ===\")\n",
        "array2 = np.array([[7, 8, 9], [10, 11, 12]])\n",
        "vertical_stack = np.vstack((array1, array2))\n",
        "horizontal_stack = np.hstack((array1, array2))\n",
        "print(\"Vertical Stack:\\n\", vertical_stack)\n",
        "print(\"Horizontal Stack:\\n\", horizontal_stack)\n",
        "\n",
        "print(\"\\n=== Part e: Indexing and slicing ===\")\n",
        "print(\"Element at (0,1):\", array1[0, 1])\n",
        "print(\"First row:\", array1[0])\n",
        "print(\"Last column:\", array1[:, -1])\n",
        "\n",
        "print(\"\\n=== Part f: Statistical functions ===\")\n",
        "print(\"Min:\", np.min(array1))\n",
        "print(\"Max:\", np.max(array1))\n",
        "print(\"Mean:\", np.mean(array1))\n",
        "print(\"Median:\", np.median(array1))\n",
        "print(\"Standard Deviation:\", np.std(array1))"
      ]
    },
    {
      "cell_type": "code",
      "source": [
        "import pandas as pd\n",
        "import numpy as np\n",
        "\n",
        "data = {\n",
        "    'Age': [25, 30, np.nan, 35, 40, np.nan],\n",
        "    'Salary': [50000, 60000, 55000, np.nan, 65000, 70000],\n",
        "    'Gender': ['M', 'F', np.nan, 'F', 'M', 'M']\n",
        "}\n",
        "\n",
        "df = pd.DataFrame(data)\n",
        "print(\"Original DataFrame:\\n\", df)\n",
        "df['Age'] = df['Age'].fillna(df['Age'].mean())"
      ],
      "metadata": {
        "id": "VGmPJXNdMcZB"
      },
      "execution_count": null,
      "outputs": []
    }
  ]
}